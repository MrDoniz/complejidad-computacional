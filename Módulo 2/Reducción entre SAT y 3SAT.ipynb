{
  "nbformat": 4,
  "nbformat_minor": 0,
  "metadata": {
    "colab": {
      "provenance": []
    },
    "kernelspec": {
      "name": "python3",
      "display_name": "Python 3"
    },
    "language_info": {
      "name": "python"
    }
  },
  "cells": [
    {
      "cell_type": "markdown",
      "source": [
        "# Reducción Polinomial de SAT -> 3SAT"
      ],
      "metadata": {
        "id": "lg3Y67OgU0R0"
      }
    },
    {
      "cell_type": "markdown",
      "source": [
        "Problema SAT de entrada para la transformación"
      ],
      "metadata": {
        "id": "jOssP1CWUj_n"
      }
    },
    {
      "cell_type": "code",
      "source": [
        "conjunto_clausulas_3sat = []\n",
        " \n",
        "conjunto_clausulas_sat = [\n",
        "     [['x1', True]],\n",
        "     [['x1', False], ['x4', False]], \n",
        "     [['x1', True] , ['x2', False], ['x3', False]],\n",
        "     [['x2', False], ['x3', False], ['x4', True], ['x5', True]],\n",
        "     [['x2', False], ['x3', False], ['x4', True], ['x1', True], ['x1', True]], \n",
        "     [['x2', False], ['x3', False], ['x4', True], ['x1', True], ['x1', True], ['x5', True]]\n",
        "]"
      ],
      "metadata": {
        "id": "WGT-PSB3rfvN"
      },
      "execution_count": null,
      "outputs": []
    },
    {
      "cell_type": "markdown",
      "source": [
        "## Clase Sat3, contiene los métodos para cada uno de los posibles casos."
      ],
      "metadata": {
        "id": "2JBpDR0IWAAZ"
      }
    },
    {
      "cell_type": "code",
      "source": [
        "class Sat3:\n",
        "  def __init__(self):\n",
        "    self._clausula = []\n",
        "\n",
        "  def caso(self, caso, clausula):\n",
        "    self._clausula = clausula\n",
        "    return getattr(self, 'Caso' + str(caso), lambda: self.CasoMayor4())()\n",
        "    \n",
        "  def Caso1(self):\n",
        "    clausula = self._clausula\n",
        "    print ('Caso 1:', clausula)\n",
        "    literales = clausula[0]\n",
        "    variable_artificial1 = ['y1', True]\n",
        "    variable_artificial2 = ['y2', True]\n",
        "    resultado_clausulas_3sat = [[], [], [], []]\n",
        "    for i in range(4):\n",
        "      if (i == 1 or i == 3):\n",
        "        variable_artificial1[1] = False\n",
        "      elif (i == 2):\n",
        "        variable_artificial1[1] = True\n",
        "        variable_artificial2[1] = False\n",
        "      conjunto = [[], [], []]\n",
        "      conjunto[0] += literales\n",
        "      conjunto[1] += variable_artificial1\n",
        "      conjunto[2] += variable_artificial2\n",
        "      resultado_clausulas_3sat[i] = conjunto\n",
        "    conjunto_clausulas_3sat.append(resultado_clausulas_3sat)\n",
        "    print(resultado_clausulas_3sat, '\\n')\n",
        "    return \"\"\n",
        "\n",
        "  def Caso2(self):\n",
        "    clausula = self._clausula\n",
        "    print ('Caso 2:', clausula)\n",
        "    variable_artificial1 = ['y1', True]\n",
        "    resultado_clausulas_3sat = [[], []]\n",
        "    for i in range(2):\n",
        "      if (i == 1):\n",
        "        variable_artificial1[1] = False\n",
        "      conjunto = [[], [], []]\n",
        "      conjunto[0] += clausula[0]\n",
        "      conjunto[1] += clausula[1]\n",
        "      conjunto[2] += variable_artificial1\n",
        "      resultado_clausulas_3sat[i] = conjunto\n",
        "    conjunto_clausulas_3sat.append(resultado_clausulas_3sat)\n",
        "    print(resultado_clausulas_3sat, '\\n')\n",
        "    return \"\"\n",
        "\n",
        "  def Caso3(self):\n",
        "    clausula = self._clausula\n",
        "    print ('Caso 3:', clausula)\n",
        "    resultado_clausulas_3sat = []\n",
        "    resultado_clausulas_3sat.append(clausula)\n",
        "    conjunto_clausulas_3sat.append(resultado_clausulas_3sat)\n",
        "    return \"\"\n",
        "\n",
        "  def CasoMayor4(self):\n",
        "    clausula = self._clausula\n",
        "    print ('Caso >=4:', clausula)\n",
        "    k = len(clausula)\n",
        "\n",
        "    variable_artificial1 = ['y1', True]\n",
        "    variable_artificial2 = ['y' + str(k - 3), False]\n",
        "\n",
        "    resultado_clausulas_3sat = [[] for _ in range(k - 2)]\n",
        "\n",
        "    resultado_clausulas_3sat[0].append(clausula[0])\n",
        "    resultado_clausulas_3sat[0].append(clausula[1])\n",
        "    resultado_clausulas_3sat[0].append(variable_artificial1)\n",
        "\n",
        "    resultado_aux = []\n",
        "    prueba = [\"y1\",  True]\n",
        "    prueba2 = [\"y2\", False]\n",
        "\n",
        "    for i in range(1, k - 3):\n",
        "      variable_aux_artificial1 = ['y' + str(i), False]\n",
        "      variable_aux_artificial2 = ['y' + str(i + 1), True]\n",
        "      resultado_aux.append(variable_aux_artificial1)      # resultado_aux += prueba\n",
        "      resultado_aux.append(clausula[i])      # resultado_aux += Sat[i]ç\n",
        "      resultado_aux.append(variable_aux_artificial2)     # resultado_aux += prueba2\n",
        "      resultado_clausulas_3sat[i] = resultado_aux\n",
        "      resultado_aux = []\n",
        "\n",
        "    resultado_clausulas_3sat[k - 3].append(variable_artificial2)\n",
        "    resultado_clausulas_3sat[k - 3].append(clausula[k - 2])\n",
        "    resultado_clausulas_3sat[k - 3].append(clausula[k - 1])\n",
        "\n",
        "    conjunto_clausulas_3sat.append(resultado_clausulas_3sat)\n",
        "    print(resultado_clausulas_3sat, '\\n')\n",
        "    return \"\"\n"
      ],
      "metadata": {
        "id": "omIiackpTakq"
      },
      "execution_count": null,
      "outputs": []
    },
    {
      "cell_type": "code",
      "source": [
        "import json\n",
        "def escribir_fichero():\n",
        "  with open('output.json', 'w') as outfile:\n",
        "    json.dump(conjunto_clausulas_3sat, outfile, \n",
        "    indent=2)\n",
        "\n",
        "def leer_fichero():\n",
        "  with open('input.json') as data_file:\n",
        "    data = json.load(data_file)\n",
        "    return data"
      ],
      "metadata": {
        "id": "jT32SveKTidm"
      },
      "execution_count": null,
      "outputs": []
    },
    {
      "cell_type": "markdown",
      "source": [
        "## Ejecución"
      ],
      "metadata": {
        "id": "6a472zFm2Khx"
      }
    },
    {
      "cell_type": "code",
      "source": [
        "instancia = Sat3()\n",
        "for clausula in conjunto_clausulas_sat:\n",
        "  print(instancia.caso(len(clausula), clausula))\n",
        "escribir_fichero()"
      ],
      "metadata": {
        "id": "EFvSicervWlN",
        "colab": {
          "base_uri": "https://localhost:8080/"
        },
        "outputId": "38c3462d-2943-43ec-90b1-fd0b7b2c8024"
      },
      "execution_count": null,
      "outputs": [
        {
          "output_type": "stream",
          "name": "stdout",
          "text": [
            "Caso 1: [['x1', True]]\n",
            "[[['x1', True], ['y1', True], ['y2', True]], [['x1', True], ['y1', False], ['y2', True]], [['x1', True], ['y1', True], ['y2', False]], [['x1', True], ['y1', False], ['y2', False]]] \n",
            "\n",
            "\n",
            "Caso 2: [['x1', False], ['x4', False]]\n",
            "[[['x1', False], ['x4', False], ['y1', True]], [['x1', False], ['x4', False], ['y1', False]]] \n",
            "\n",
            "\n",
            "Caso 3: [['x1', True], ['x2', False], ['x3', False]]\n",
            "\n",
            "Caso >=4: [['x2', False], ['x3', False], ['x4', True], ['x5', True]]\n",
            "[[['x2', False], ['x3', False], ['y1', True]], [['y1', False], ['x4', True], ['x5', True]]] \n",
            "\n",
            "\n",
            "Caso >=4: [['x2', False], ['x3', False], ['x4', True], ['x1', True], ['x1', True]]\n",
            "[[['x2', False], ['x3', False], ['y1', True]], [['y1', False], ['x3', False], ['y2', True]], [['y2', False], ['x1', True], ['x1', True]]] \n",
            "\n",
            "\n",
            "Caso >=4: [['x2', False], ['x3', False], ['x4', True], ['x1', True], ['x1', True], ['x5', True]]\n",
            "[[['x2', False], ['x3', False], ['y1', True]], [['y1', False], ['x3', False], ['y2', True]], [['y2', False], ['x4', True], ['y3', True]], [['y3', False], ['x1', True], ['x5', True]]] \n",
            "\n",
            "\n"
          ]
        }
      ]
    }
  ]
}